{
 "cells": [
  {
   "cell_type": "markdown",
   "metadata": {},
   "source": [
    "### 1. python 가상환경 생성"
   ]
  },
  {
   "cell_type": "markdown",
   "metadata": {},
   "source": [
    "- python -m venv 가상환경명\n",
    "- ex) python -m venv ./venv"
   ]
  },
  {
   "cell_type": "markdown",
   "metadata": {},
   "source": [
    "### 2. jupyter note 생성 후 markdown 생성까지 code"
   ]
  },
  {
   "cell_type": "markdown",
   "metadata": {},
   "source": [
    "- c:/Users/lazio1900/Desktop/venv/venv_ver1/Scripts/activate.bat      # activate code\n",
    "- C:/Users/lazio1900/Desktop/blog/lazio1900.github.io/_posts/ipynb    # ipynb code path\n",
    "- jupyter nbconvert --to markdown JUPYTER_NOTEBOOK.ipynb              # jupyter notebook file to markdown file"
   ]
  },
  {
   "cell_type": "markdown",
   "metadata": {},
   "source": [
    "### 3. markdown 생성 후 Git 실행 Code"
   ]
  },
  {
   "cell_type": "markdown",
   "metadata": {},
   "source": [
    "- C:/Users/lazio1900/Desktop/blog/lazio1900.github.io   # git 실행할 path\n",
    "\n",
    "- git add .                           # 변경내용 추가\n",
    "- git status                          # 상태 확인\n",
    "- git commit -m \"commit message\"      # 변경 상태 commit. commit message를 상세히 작성하자\n",
    "- git push                            # commit한 내용을 web에 업로드"
   ]
  },
  {
   "cell_type": "markdown",
   "metadata": {},
   "source": []
  }
 ],
 "metadata": {
  "language_info": {
   "name": "python"
  },
  "orig_nbformat": 4
 },
 "nbformat": 4,
 "nbformat_minor": 2
}
